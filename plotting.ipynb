{
 "cells": [
  {
   "cell_type": "code",
   "execution_count": 1,
   "metadata": {
    "pycharm": {
     "is_executing": false
    }
   },
   "outputs": [],
   "source": [
    "import os\n",
    "import matplotlib.pyplot as plt\n",
    "import torch"
   ]
  },
  {
   "cell_type": "code",
   "execution_count": 2,
   "outputs": [],
   "source": [
    "plt.rc('xtick',labelsize=8)\n",
    "plt.rc('ytick',labelsize=8)\n",
    "plt.rc(\"axes\", labelsize=8)\n",
    "plt.rc(\"legend\", fontsize=8)"
   ],
   "metadata": {
    "collapsed": false,
    "pycharm": {
     "name": "#%%\n",
     "is_executing": false
    }
   }
  },
  {
   "cell_type": "code",
   "execution_count": 3,
   "outputs": [],
   "source": [
    "def plot_regret(regret, color=None, label=None, n_std=1, alpha=0.3, lw=1, accumulate=False):\n",
    "    iterations = torch.arange(regret.shape[1]) + 1\n",
    "    \n",
    "    cumulative_regret = regret.cpu().cumsum(dim=1)\n",
    "    if accumulate:\n",
    "        regret_mean = cumulative_regret.mean(dim=0)/iterations\n",
    "        regret_std = (cumulative_regret/iterations).std(dim=0)\n",
    "    else:\n",
    "        regret_mean = cumulative_regret.mean(dim=0)\n",
    "        regret_std = cumulative_regret.std(dim=0)\n",
    "    \n",
    "    plt.plot(iterations, regret_mean, c=color, label=label, lw=lw)\n",
    "    plt.fill_between(iterations, regret_mean - n_std*regret_std, regret_mean + n_std*regret_std, \n",
    "                     color=color, alpha=alpha)\n",
    " "
   ],
   "metadata": {
    "collapsed": false,
    "pycharm": {
     "name": "#%%\n",
     "is_executing": false
    }
   }
  },
  {
   "cell_type": "code",
   "execution_count": 4,
   "outputs": [],
   "source": [
    "def plot_regrets(regrets_dict: dict, c_map, n_iterations=100, accumulate=False):\n",
    "    plt.figure(figsize=(3,2))\n",
    "    for nm, r_t in regrets_dict.items():\n",
    "        plot_regret(r_t, color=next(c_map), label=nm, lw=1.5, accumulate=accumulate)\n",
    "    plt.legend(loc=\"upper right\")\n",
    "    plt.xlabel(\"Iterations\")\n",
    "    plt.ylabel(\"Cumulative regret\")\n",
    "    plt.xlim(0, n_iterations)\n",
    "    plt.tight_layout()"
   ],
   "metadata": {
    "collapsed": false,
    "pycharm": {
     "name": "#%%\n",
     "is_executing": false
    }
   }
  },
  {
   "cell_type": "markdown",
   "metadata": {},
   "source": [
    "# Toy experiment"
   ]
  },
  {
   "cell_type": "code",
   "execution_count": 5,
   "metadata": {
    "pycharm": {
     "is_executing": false
    }
   },
   "outputs": [],
   "source": [
    "results_dir = \".\"\n",
    "method_names = [\"GP-UCB\", \"CME-UCB\", \"I-CME-UCB\"]\n",
    "regrets = dict.fromkeys(method_names)\n",
    "\n",
    "for name in method_names:\n",
    "    regrets[name] = torch.load(os.path.join(results_dir, \"{}-regret.pth\".format(name.lower())))\n",
    "    "
   ]
  },
  {
   "cell_type": "code",
   "execution_count": 6,
   "outputs": [
    {
     "data": {
      "text/plain": "<Figure size 216x144 with 1 Axes>",
      "image/png": "[encoded data removed]"
     },
     "metadata": {
      "needs_background": "light"
     },
     "output_type": "display_data"
    }
   ],
   "source": [
    "colormap = iter(plt.cm.copper(torch.linspace(0,1,len(method_names)+1).numpy()))\n",
    "plot_regrets(regrets, colormap, n_iterations=500, accumulate=True)\n",
    "plt.ylabel(\"Mean regret\")\n",
    "plt.tight_layout()\n",
    "plt.savefig(\"regret.png\", dpi=300)"
   ],
   "metadata": {
    "collapsed": false,
    "pycharm": {
     "name": "#%%\n",
     "is_executing": false
    }
   }
  },
  {
   "cell_type": "code",
   "execution_count": null,
   "outputs": [],
   "source": [
    "\n"
   ],
   "metadata": {
    "collapsed": false,
    "pycharm": {
     "name": "#%%\n"
    }
   }
  }
 ],
 "metadata": {
  "kernelspec": {
   "display_name": "Python 3",
   "language": "python",
   "name": "python3"
  },
  "language_info": {
   "codemirror_mode": {
    "name": "ipython",
    "version": 3
   },
   "file_extension": ".py",
   "mimetype": "text/x-python",
   "name": "python",
   "nbconvert_exporter": "python",
   "pygments_lexer": "ipython3",
   "version": "3.7.6"
  },
  "pycharm": {
   "stem_cell": {
    "cell_type": "raw",
    "source": [],
    "metadata": {
     "collapsed": false
    }
   }
  }
 },
 "nbformat": 4,
 "nbformat_minor": 4
}